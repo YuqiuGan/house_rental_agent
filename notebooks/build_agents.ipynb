{
 "cells": [
  {
   "cell_type": "code",
   "execution_count": 1,
   "id": "1d4ce650",
   "metadata": {},
   "outputs": [],
   "source": [
    "from langsmith import Client\n",
    "from langchain_core.prompts import ChatPromptTemplate\n",
    "from langchain.agents import AgentExecutor, create_tool_calling_agent\n",
    "from langchain.tools import BaseTool, StructuredTool, tool\n",
    "from langchain.chat_models import init_chat_model\n",
    "from langgraph.checkpoint.memory import MemorySaver\n",
    "from langgraph.prebuilt import create_react_agent\n",
    "\n",
    "import sys\n",
    "from pathlib import Path\n",
    "\n",
    "PROJECT_ROOT = Path(\"/Users/yuqiugan/Desktop/Personal_DS_Projects/house_rental_agent\")\n",
    "if str(PROJECT_ROOT) not in sys.path:\n",
    "    sys.path.insert(0, str(PROJECT_ROOT))\n",
    "\n",
    "from src.GoogleMaps_tools import query_google_maps\n",
    "from src.settings import GOOGLE_GEMINI_API_KEY\n"
   ]
  },
  {
   "cell_type": "code",
   "execution_count": 2,
   "id": "327ffd39",
   "metadata": {},
   "outputs": [],
   "source": [
    "from langchain_google_genai import ChatGoogleGenerativeAI"
   ]
  },
  {
   "cell_type": "code",
   "execution_count": 3,
   "id": "8fdbb892",
   "metadata": {},
   "outputs": [],
   "source": [
    "from langchain_google_genai import ChatGoogleGenerativeAI\n",
    "\n",
    "llm = ChatGoogleGenerativeAI(\n",
    "    model=\"gemini-2.5-flash\",\n",
    "    google_api_key=GOOGLE_GEMINI_API_KEY,\n",
    "    temperature=0,\n",
    "    max_tokens=None,\n",
    "    timeout=None,\n",
    "    max_retries=2,\n",
    ")\n",
    "\n",
    "tools = [query_google_maps]\n",
    "\n",
    "system_prompt = \"\"\"\n",
    "You are a transit planning assistant.\n",
    "Return structured blocks when helpful.\n",
    "You have only one tool to use 'query_google_maps' which can check real-time information.\n",
    "Always include a brief explanation block built from data (no private thoughts). \n",
    "If you have used the tool, tell me what tool you used and if there are some option that the tool has, tell me what option you used.\n",
    "\"\"\"\n",
    "\n",
    "prompt = ChatPromptTemplate.from_messages(\n",
    "    [\n",
    "        (\"system\", system_prompt),\n",
    "        (\"human\", \"{input}\"),\n",
    "        (\"placeholder\", \"{agent_scratchpad}\")\n",
    "    ]\n",
    ")\n",
    "\n",
    "rental_agent = create_tool_calling_agent(llm, tools, prompt)\n",
    "rental_agent_executor = AgentExecutor(\n",
    "    agent = rental_agent, tools = tools, verbose=False, return_intermediate_steps=True\n",
    ")"
   ]
  },
  {
   "cell_type": "code",
   "execution_count": 4,
   "id": "54860926",
   "metadata": {},
   "outputs": [],
   "source": [
    "query_message = \"Help me to check the route from '155 Goldsborough Dr, Bayonne, NJ 07002' to '277 Park Ave, New York, NY 10172'\"\n",
    "response = rental_agent_executor.invoke({\"input\": query_message})"
   ]
  },
  {
   "cell_type": "code",
   "execution_count": 7,
   "id": "62ce54fd",
   "metadata": {},
   "outputs": [
    {
     "data": {
      "text/plain": [
       "dict"
      ]
     },
     "execution_count": 7,
     "metadata": {},
     "output_type": "execute_result"
    }
   ],
   "source": [
    "type(response)"
   ]
  },
  {
   "cell_type": "code",
   "execution_count": 8,
   "id": "cad16a1e",
   "metadata": {},
   "outputs": [
    {
     "data": {
      "text/plain": [
       "dict_keys(['input', 'output', 'intermediate_steps'])"
      ]
     },
     "execution_count": 8,
     "metadata": {},
     "output_type": "execute_result"
    }
   ],
   "source": [
    "response.keys()"
   ]
  },
  {
   "cell_type": "code",
   "execution_count": 9,
   "id": "2f4b6c87",
   "metadata": {},
   "outputs": [
    {
     "data": {
      "text/plain": [
       "\"Help me to check the route from '155 Goldsborough Dr, Bayonne, NJ 07002' to '277 Park Ave, New York, NY 10172'\""
      ]
     },
     "execution_count": 9,
     "metadata": {},
     "output_type": "execute_result"
    }
   ],
   "source": [
    "response.get('input')"
   ]
  },
  {
   "cell_type": "code",
   "execution_count": 11,
   "id": "8a15a64a",
   "metadata": {},
   "outputs": [
    {
     "data": {
      "text/plain": [
       "'The total distance is 11.6 miles and it will take 1 hour and 28 minutes.\\n\\nHere are the steps:\\n1. Walk to 34th Street.\\n2. Take the Light rail towards Terminal from 34th Street to Exchange Place.\\n3. Walk to Exchange Place.\\n4. Take the Subway towards World Trade Center from Exchange Place to World Trade Center.\\n5. Walk to Fulton St.\\n6. Take the Subway towards Eastchester-Dyre Av from Fulton St to Grand Central-42 St.\\n7. Walk to 277 Park Ave, New York, NY 10172, USA.\\n\\nI used the `query_google_maps` tool with the `generate_route_map` option set to `True`.'"
      ]
     },
     "execution_count": 11,
     "metadata": {},
     "output_type": "execute_result"
    }
   ],
   "source": [
    "response.get('output')"
   ]
  },
  {
   "cell_type": "code",
   "execution_count": 10,
   "id": "bed64d3c",
   "metadata": {},
   "outputs": [
    {
     "data": {
      "text/plain": [
       "[(ToolAgentAction(tool='query_google_maps', tool_input={'generate_route_map': True, 'origin': '155 Goldsborough Dr, Bayonne, NJ 07002', 'destination': '277 Park Ave, New York, NY 10172', 'origin_name': '155 Goldsborough Dr, Bayonne, NJ 07002'}, log=\"\\nInvoking: `query_google_maps` with `{'generate_route_map': True, 'origin': '155 Goldsborough Dr, Bayonne, NJ 07002', 'destination': '277 Park Ave, New York, NY 10172', 'origin_name': '155 Goldsborough Dr, Bayonne, NJ 07002'}`\\n\\n\\n\", message_log=[AIMessageChunk(content='', additional_kwargs={'function_call': {'name': 'query_google_maps', 'arguments': '{\"generate_route_map\": true, \"origin\": \"155 Goldsborough Dr, Bayonne, NJ 07002\", \"destination\": \"277 Park Ave, New York, NY 10172\", \"origin_name\": \"155 Goldsborough Dr, Bayonne, NJ 07002\"}'}}, response_metadata={'finish_reason': 'STOP', 'model_name': 'gemini-2.5-flash', 'safety_ratings': []}, id='run--a038399b-1b30-4430-9720-13afdfb98153', tool_calls=[{'name': 'query_google_maps', 'args': {'generate_route_map': True, 'origin': '155 Goldsborough Dr, Bayonne, NJ 07002', 'destination': '277 Park Ave, New York, NY 10172', 'origin_name': '155 Goldsborough Dr, Bayonne, NJ 07002'}, 'id': 'a1e3c69c-3031-45b1-9feb-b00dc3b950c2', 'type': 'tool_call'}], usage_metadata={'input_tokens': 235, 'output_tokens': 164, 'total_tokens': 399, 'input_token_details': {'cache_read': 0}, 'output_token_details': {'reasoning': 80}}, tool_call_chunks=[{'name': 'query_google_maps', 'args': '{\"generate_route_map\": true, \"origin\": \"155 Goldsborough Dr, Bayonne, NJ 07002\", \"destination\": \"277 Park Ave, New York, NY 10172\", \"origin_name\": \"155 Goldsborough Dr, Bayonne, NJ 07002\"}', 'id': 'a1e3c69c-3031-45b1-9feb-b00dc3b950c2', 'index': None, 'type': 'tool_call_chunk'}])], tool_call_id='a1e3c69c-3031-45b1-9feb-b00dc3b950c2'),\n",
       "  {'duration_text': '1 hour 28 mins',\n",
       "   'distance_text': '11.6 mi',\n",
       "   'steps': [('WALKING', 'Walk to 34th Street', {}),\n",
       "    ('TRANSIT',\n",
       "     'Light rail towards Terminal',\n",
       "     {'arrival_stop': {'location': {'lat': 40.7158845, 'lng': -74.0341442},\n",
       "       'name': 'Exchange Place'},\n",
       "      'arrival_time': {'text': '8:36\\u202fAM',\n",
       "       'time_zone': 'America/New_York',\n",
       "       'value': 1756730160},\n",
       "      'departure_stop': {'location': {'lat': 40.6717465, 'lng': -74.1074336},\n",
       "       'name': '34th Street'},\n",
       "      'departure_time': {'text': '8:23\\u202fAM',\n",
       "       'time_zone': 'America/New_York',\n",
       "       'value': 1756729380},\n",
       "      'headsign': 'Terminal',\n",
       "      'line': {'agencies': [{'name': 'Nj Transit Rail',\n",
       "         'url': 'http://www.njtransit.com/'}],\n",
       "       'color': '#008080',\n",
       "       'name': 'HBLR',\n",
       "       'text_color': '#ffffff',\n",
       "       'vehicle': {'icon': '//maps.gstatic.com/mapfiles/transit/iw2/6/tram2.png',\n",
       "        'name': 'Light rail',\n",
       "        'type': 'TRAM'}},\n",
       "      'num_stops': 3}),\n",
       "    ('WALKING', 'Walk to Exchange Place', {}),\n",
       "    ('TRANSIT',\n",
       "     'Subway towards World Trade Center',\n",
       "     {'arrival_stop': {'location': {'lat': 40.71271, 'lng': -74.01193},\n",
       "       'name': 'World Trade Center'},\n",
       "      'arrival_time': {'text': '9:00\\u202fAM',\n",
       "       'time_zone': 'America/New_York',\n",
       "       'value': 1756731600},\n",
       "      'departure_stop': {'location': {'lat': 40.71676, 'lng': -74.03238},\n",
       "       'name': 'Exchange Place'},\n",
       "      'departure_time': {'text': '8:55\\u202fAM',\n",
       "       'time_zone': 'America/New_York',\n",
       "       'value': 1756731330},\n",
       "      'headsign': 'World Trade Center',\n",
       "      'line': {'agencies': [{'name': 'PATH',\n",
       "         'phone': '1 (800) 234-7284',\n",
       "         'url': 'http://www.panynj.gov/path/'}],\n",
       "       'color': '#d93a30',\n",
       "       'name': 'Newark - World Trade Center',\n",
       "       'short_name': 'PATH',\n",
       "       'text_color': '#ffffff',\n",
       "       'url': 'http://www.panynj.gov/path/pdf/path-map-schedule-english_dec25.pdf',\n",
       "       'vehicle': {'icon': '//maps.gstatic.com/mapfiles/transit/iw2/6/subway2.png',\n",
       "        'name': 'Subway',\n",
       "        'type': 'SUBWAY'}},\n",
       "      'num_stops': 1}),\n",
       "    ('WALKING', 'Walk to Fulton St', {}),\n",
       "    ('TRANSIT',\n",
       "     'Subway towards Eastchester-Dyre Av',\n",
       "     {'arrival_stop': {'location': {'lat': 40.751778, 'lng': -73.976845},\n",
       "       'name': 'Grand Central-42 St'},\n",
       "      'arrival_time': {'text': '9:24\\u202fAM',\n",
       "       'time_zone': 'America/New_York',\n",
       "       'value': 1756733040},\n",
       "      'departure_stop': {'location': {'lat': 40.710369, 'lng': -74.009506},\n",
       "       'name': 'Fulton St'},\n",
       "      'departure_time': {'text': '9:14\\u202fAM',\n",
       "       'time_zone': 'America/New_York',\n",
       "       'value': 1756732470},\n",
       "      'headsign': 'Eastchester-Dyre Av',\n",
       "      'headway': 360,\n",
       "      'line': {'agencies': [{'name': 'MTA New York City Transit',\n",
       "         'phone': '1 (718) 330-1234',\n",
       "         'url': 'http://www.mta.info/'}],\n",
       "       'color': '#00933c',\n",
       "       'icon': '//maps.gstatic.com/mapfiles/transit/iw2/6/us-ny-mta/5.png',\n",
       "       'name': '5 Train (Lexington Av Express)',\n",
       "       'short_name': '5 Line',\n",
       "       'text_color': '#ffffff',\n",
       "       'url': 'https://new.mta.info/document/9446',\n",
       "       'vehicle': {'icon': '//maps.gstatic.com/mapfiles/transit/iw2/6/subway2.png',\n",
       "        'name': 'Subway',\n",
       "        'type': 'SUBWAY'}},\n",
       "      'num_stops': 3}),\n",
       "    ('WALKING', 'Walk to 277 Park Ave, New York, NY 10172, USA', {})],\n",
       "   'map_result': {'status': 'ok',\n",
       "    'path': '/Users/yuqiugan/Desktop/Personal_DS_Projects/house_rental_agent/data/Google_route/Default.png'}})]"
      ]
     },
     "execution_count": 10,
     "metadata": {},
     "output_type": "execute_result"
    }
   ],
   "source": [
    "response.get('intermediate_steps')"
   ]
  },
  {
   "cell_type": "code",
   "execution_count": 6,
   "id": "9a66b7f9",
   "metadata": {},
   "outputs": [
    {
     "name": "stdout",
     "output_type": "stream",
     "text": [
      "{'status': 'ok', 'path': '/Users/yuqiugan/Desktop/Personal_DS_Projects/house_rental_agent/data/Google_route/155_Goldsborough_Dr_Bayonne_NJ_07002.png'}\n"
     ]
    }
   ],
   "source": [
    "from src.GoogleMaps_tools import best_transit_route, static_map_with_route\n",
    "import re\n",
    "\n",
    "route = best_transit_route(\"155 Goldsborough Dr, Bayonne, NJ 07002\",\n",
    "                           \"277 Park Ave, New York, NY 10172\")\n",
    "fn = re.sub(r'[^A-Za-z0-9._-]+', '_', \"155 Goldsborough Dr, Bayonne, NJ 07002\").strip('_')\n",
    "res = static_map_with_route(route, origin_name=fn)\n",
    "print(res)"
   ]
  },
  {
   "cell_type": "code",
   "execution_count": null,
   "id": "6f0b328d",
   "metadata": {},
   "outputs": [],
   "source": []
  }
 ],
 "metadata": {
  "kernelspec": {
   "display_name": "house_renting",
   "language": "python",
   "name": "python3"
  },
  "language_info": {
   "codemirror_mode": {
    "name": "ipython",
    "version": 3
   },
   "file_extension": ".py",
   "mimetype": "text/x-python",
   "name": "python",
   "nbconvert_exporter": "python",
   "pygments_lexer": "ipython3",
   "version": "3.11.13"
  }
 },
 "nbformat": 4,
 "nbformat_minor": 5
}
