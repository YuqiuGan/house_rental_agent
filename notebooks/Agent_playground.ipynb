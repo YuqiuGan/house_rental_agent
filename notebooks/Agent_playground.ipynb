{
 "cells": [
  {
   "cell_type": "code",
   "execution_count": 1,
   "id": "1d4ce650",
   "metadata": {},
   "outputs": [],
   "source": [
    "from langsmith import Client\n",
    "from langchain_core.prompts import ChatPromptTemplate, MessagesPlaceholder\n",
    "from langchain.agents import AgentExecutor, create_tool_calling_agent\n",
    "from langchain.tools import BaseTool, StructuredTool, tool\n",
    "from langchain.chat_models import init_chat_model\n",
    "from langgraph.checkpoint.memory import MemorySaver\n",
    "from langgraph.prebuilt import create_react_agent\n",
    "from langchain_core.runnables.history import RunnableWithMessageHistory\n",
    "from langchain_community.chat_message_histories import ChatMessageHistory\n",
    "\n",
    "import sys\n",
    "from pathlib import Path\n",
    "\n",
    "PROJECT_ROOT = Path(\"/Users/yuqiugan/Desktop/Personal_DS_Projects/house_rental_agent\")\n",
    "if str(PROJECT_ROOT) not in sys.path:\n",
    "    sys.path.insert(0, str(PROJECT_ROOT))\n",
    "\n",
    "from src.GoogleMaps_tools import query_google_maps\n",
    "from src.Zillow_tools import submit_zillow_query_via_brightData, retrieve_snapshot_from_brightData\n",
    "from src.Database_tools import bulk_upsert_listings\n",
    "from src.Query_database_tool import agent_query_listing_table_tool\n",
    "from src.settings import GOOGLE_GEMINI_API_KEY\n",
    "from src.Helper_tools import get_date_time_now\n",
    "from langchain_google_genai import ChatGoogleGenerativeAI\n",
    "\n",
    "### HITL\n",
    "from src.HITL_tools import request_human_approval"
   ]
  },
  {
   "cell_type": "markdown",
   "id": "4254f370",
   "metadata": {},
   "source": [
    "### Build Agent via LangChain"
   ]
  },
  {
   "cell_type": "code",
   "execution_count": 2,
   "id": "8fdbb892",
   "metadata": {},
   "outputs": [],
   "source": [
    "llm = ChatGoogleGenerativeAI(\n",
    "    model=\"gemini-2.5-flash\",\n",
    "    google_api_key=GOOGLE_GEMINI_API_KEY,\n",
    "    temperature=0,\n",
    "    max_tokens=None,\n",
    "    timeout=None,\n",
    "    max_retries=2,\n",
    ")\n",
    "\n",
    "tools = [query_google_maps, submit_zillow_query_via_brightData, \n",
    "         retrieve_snapshot_from_brightData, bulk_upsert_listings, \n",
    "         agent_query_listing_table_tool, get_date_time_now, \n",
    "         request_human_approval]\n",
    "\n",
    "system_prompt = \"\"\"\n",
    "You are a professional real estate broker. Use tools iteratively to gather *real* rental listings.\n",
    "\n",
    "You have 7 tools:\n",
    "- query_google_maps: query online transit route information from origin to destination.\n",
    "- submit_zillow_query_via_brightData: submit a Zillow search to do online searching. Returns {{\\\"snapshot_id\\\": \\\"...\\\"}} on success.\n",
    "- retrieve_snapshot_from_brightData: given snapshot_id, poll until data is ready (the tool handles waiting/retries internally). Returns listing data or {{\\\"status\\\": \\\"not_ready\\\"}} if it truly timed out. Though it need send online request, there is no cost, so you don't need human's approval for using this tool.\n",
    "- bulk_upsert_listings: upsert the listing information to the local database listing table.\n",
    "- agent_query_listing_table_tool: query listing information from local database, this will not cost any expense but may get some outdated listings. In the database's listing table, \"updated_at\" indicate the last time the record was updated,\n",
    "  \"created_at\" indicates the first time that this record logged in the table. IMPORTANT: Pass spec as a JSON object, not a string or code block. Do not wrap in backticks.\n",
    "- get_date_time_now: No input parameters, directly return the date time of now.\n",
    "- request_human_approval: Before ANY online/network call, first call \"request_human_approval\" with a short action and concise details.\n",
    "  Interpret the returned raw human text into one of: APPROVE / REJECT / MODIFY / DEFER / AMBIGUOUS.\n",
    "  Rules:\n",
    "    APPROVE: proceed with the original plan.\n",
    "    REJECT: do not perform; summarize what would have been done.\n",
    "    MODIFY: extract constraints (e.g., new budget/city/date) and proceed under those constraints.\n",
    "    DEFER: stop and summarize when to resume.\n",
    "    AMBIGUOUS: ask a clarifying question (one sentence), then wait.\n",
    "  Always restate the interpreted decision and constraints in your reasoning (scratchpad) before acting.\n",
    "\n",
    "CRITICAL EXECUTION RULES\n",
    "- After calling submit_zillow_query_via_brightData, you MUST immediately call retrieve_snapshot_from_brightData with the snapshot_id returned.\n",
    "- Submit exactly once per user request. If you already have a snapshot_id in this conversation, DO NOT call submit_zillow_query_via_brightData again. Wait until retrieve_snapshot_from_brightData get valid results.\n",
    "- By default, if retrieve_snapshot_from_brightData return valid data, ALWAYS save to the local database for future reference.\n",
    "- Do NOT produce a final answer until retrieve_snapshot_from_brightData returns real listing data (non-empty) or definitively reports no data (e.g., timed out after internal retries).\n",
    "- If retrieve_snapshot_from_brightData returns {{\\\"status\\\":\\\"not_ready\\\"}} or similar, you may try it again. However, the tool itself already waits and retries; only re-call if it explicitly tells you it's safe to try again later.\n",
    "- By default, when using query_google_maps to plan the route, the desination should always be user's request destination, the origin should be the address of the properties you got from retrieve_snapshot_from_brightData.\n",
    "- By default, when user requests to check listings in a certain area, ALWAYS check local database first. If you find the records are out dated (no records in recent 5 days), search online then.\n",
    "- When user ask about the details about the transit plan, alway generate transit map (set generate_route_map=True when calling query_google_maps)\n",
    "- Keep your intermediate reasoning in the scratchpad; the user should only see the final JSON.\n",
    "\n",
    "\n",
    "FINAL OUTPUT FORMAT (ONLY WHEN DONE)\n",
    "Return a JSON object with:\n",
    "- \"Tool call history\": String - brief tool call log.\n",
    "- \"Reasoning history\": String - brief description of what you did and why.\n",
    "- Return JSON only, do not write ``` json at the beginging or end of the JSON structure.\n",
    "\"\"\"\n",
    "\n",
    "prompt = ChatPromptTemplate.from_messages(\n",
    "    [\n",
    "        (\"system\", system_prompt),\n",
    "        MessagesPlaceholder(\"chat_history\"),\n",
    "        (\"human\", \"{input}\"),\n",
    "        # (\"placeholder\", \"{agent_scratchpad}\")\n",
    "        MessagesPlaceholder(\"agent_scratchpad\")\n",
    "    ]\n",
    ")\n",
    "\n",
    "_session_store = {}\n",
    "\n",
    "def get_session_history(session_id: str) -> ChatMessageHistory:\n",
    "    if session_id not in _session_store:\n",
    "        _session_store[session_id] = ChatMessageHistory()\n",
    "    return _session_store[session_id]\n",
    "\n",
    "\n",
    "rental_agent = create_tool_calling_agent(llm, tools, prompt)\n",
    "rental_agent_executor = AgentExecutor(\n",
    "    agent = rental_agent, tools = tools, verbose=False, return_intermediate_steps=True\n",
    ")\n",
    "\n",
    "conversational_executor = RunnableWithMessageHistory(\n",
    "    rental_agent_executor,\n",
    "    get_session_history,\n",
    "    input_messages_key=\"input\",\n",
    "    history_messages_key=\"chat_history\"\n",
    ")\n",
    "\n",
    "session_cfg = {\"configurable\": {\"session_id\": \"yuqiu-local-dev\"}}"
   ]
  },
  {
   "cell_type": "code",
   "execution_count": 3,
   "id": "4dc1cda9",
   "metadata": {},
   "outputs": [
    {
     "name": "stderr",
     "output_type": "stream",
     "text": [
      "Key 'additionalProperties' is not supported in schema, ignoring\n"
     ]
    },
    {
     "name": "stderr",
     "output_type": "stream",
     "text": [
      "Key 'additionalProperties' is not supported in schema, ignoring\n"
     ]
    }
   ],
   "source": [
    "query_message = \"What's the date now?\"\n",
    "# response = rental_agent_executor.invoke({\"input\": query_message})\n",
    "response = conversational_executor.invoke({\"input\": query_message}, config=session_cfg)"
   ]
  },
  {
   "cell_type": "code",
   "execution_count": 4,
   "id": "c0f4b0eb",
   "metadata": {},
   "outputs": [
    {
     "data": {
      "text/plain": [
       "'{\"Tool call history\": \"default_api.get_date_time_now()\", \"Reasoning history\": \"The user asked for the current date, so I used the `get_date_time_now` tool to retrieve it.\", \"2025-09-10 00:35:13.968150\"}'"
      ]
     },
     "execution_count": 4,
     "metadata": {},
     "output_type": "execute_result"
    }
   ],
   "source": [
    "response.get('output')"
   ]
  },
  {
   "cell_type": "code",
   "execution_count": 5,
   "id": "d159043b",
   "metadata": {},
   "outputs": [
    {
     "data": {
      "text/plain": [
       "'{\"Tool call history\": \"default_api.get_date_time_now()\", \"Reasoning history\": \"The user asked for the current date, so I used the `get_date_time_now` tool to retrieve it.\", \"2025-09-10 00:35:13.968150\"}'"
      ]
     },
     "execution_count": 5,
     "metadata": {},
     "output_type": "execute_result"
    }
   ],
   "source": [
    "output = response.get('output')\n",
    "output2 = output.strip()\n",
    "\n",
    "import re \n",
    "if output2.startswith(\"```\"):\n",
    "    output2 = re.sub(r\"^```[a-zA-Z0-9]*\\n\", \"\", output2)\n",
    "    output2 = re.sub(r\"\\n```$\", \"\", output2)\n",
    "\n",
    "# import json\n",
    "# json.loads(output2)\n",
    "output2"
   ]
  },
  {
   "cell_type": "code",
   "execution_count": 6,
   "id": "7003208a",
   "metadata": {},
   "outputs": [
    {
     "name": "stderr",
     "output_type": "stream",
     "text": [
      "Key 'additionalProperties' is not supported in schema, ignoring\n"
     ]
    }
   ],
   "source": [
    "query_message = \"Have you helped me before?\"\n",
    "# response = rental_agent_executor.invoke({\"input\": query_message})\n",
    "response = conversational_executor.invoke({\"input\": query_message}, config=session_cfg)"
   ]
  },
  {
   "cell_type": "code",
   "execution_count": 7,
   "id": "e9a77ea3",
   "metadata": {},
   "outputs": [
    {
     "data": {
      "text/plain": [
       "\"As a large language model, I don't have memory of past conversations or personal interactions. Each interaction is fresh, and I don't retain any information from previous exchanges.\""
      ]
     },
     "execution_count": 7,
     "metadata": {},
     "output_type": "execute_result"
    }
   ],
   "source": [
    "output = response.get('output')\n",
    "output2 = output.strip()\n",
    "\n",
    "import re \n",
    "if output2.startswith(\"```\"):\n",
    "    output2 = re.sub(r\"^```[a-zA-Z0-9]*\\n\", \"\", output2)\n",
    "    output2 = re.sub(r\"\\n```$\", \"\", output2)\n",
    "\n",
    "# import json\n",
    "# json.loads(output2)\n",
    "output2"
   ]
  },
  {
   "cell_type": "code",
   "execution_count": 8,
   "id": "13bc173d",
   "metadata": {},
   "outputs": [
    {
     "name": "stderr",
     "output_type": "stream",
     "text": [
      "Key 'additionalProperties' is not supported in schema, ignoring\n"
     ]
    }
   ],
   "source": [
    "query_message = \"My name is Yuqiu Gan.\"\n",
    "# response = rental_agent_executor.invoke({\"input\": query_message})\n",
    "response = conversational_executor.invoke({\"input\": query_message}, config=session_cfg)"
   ]
  },
  {
   "cell_type": "code",
   "execution_count": 9,
   "id": "c7b9ce36",
   "metadata": {},
   "outputs": [
    {
     "data": {
      "text/plain": [
       "\"It's nice to meet you, Yuqiu Gan! How can I help you today?\""
      ]
     },
     "execution_count": 9,
     "metadata": {},
     "output_type": "execute_result"
    }
   ],
   "source": [
    "output = response.get('output')\n",
    "output2 = output.strip()\n",
    "\n",
    "import re \n",
    "if output2.startswith(\"```\"):\n",
    "    output2 = re.sub(r\"^```[a-zA-Z0-9]*\\n\", \"\", output2)\n",
    "    output2 = re.sub(r\"\\n```$\", \"\", output2)\n",
    "\n",
    "# import json\n",
    "# json.loads(output2)\n",
    "output2"
   ]
  },
  {
   "cell_type": "code",
   "execution_count": 10,
   "id": "7c7b7de1",
   "metadata": {},
   "outputs": [
    {
     "name": "stderr",
     "output_type": "stream",
     "text": [
      "Key 'additionalProperties' is not supported in schema, ignoring\n"
     ]
    },
    {
     "data": {
      "text/plain": [
       "'Your name is Yuqiu Gan.'"
      ]
     },
     "execution_count": 10,
     "metadata": {},
     "output_type": "execute_result"
    }
   ],
   "source": [
    "query_message = \"What is my name?\"\n",
    "# response = rental_agent_executor.invoke({\"input\": query_message})\n",
    "response = conversational_executor.invoke({\"input\": query_message}, config=session_cfg)\n",
    "\n",
    "output = response.get('output')\n",
    "output2 = output.strip()\n",
    "\n",
    "import re \n",
    "if output2.startswith(\"```\"):\n",
    "    output2 = re.sub(r\"^```[a-zA-Z0-9]*\\n\", \"\", output2)\n",
    "    output2 = re.sub(r\"\\n```$\", \"\", output2)\n",
    "\n",
    "# import json\n",
    "# json.loads(output2)\n",
    "output2"
   ]
  },
  {
   "cell_type": "code",
   "execution_count": 11,
   "id": "2be531f7",
   "metadata": {},
   "outputs": [
    {
     "name": "stderr",
     "output_type": "stream",
     "text": [
      "Key 'additionalProperties' is not supported in schema, ignoring\n"
     ]
    },
    {
     "name": "stderr",
     "output_type": "stream",
     "text": [
      "Key 'additionalProperties' is not supported in schema, ignoring\n"
     ]
    },
    {
     "data": {
      "text/plain": [
       "'{\"Tool call history\": \"default_api.get_date_time_now()\", \"Reasoning history\": \"The user asked for the current date, so I used the `get_date_time_now` tool to retrieve it.\", \"2025-09-10 00:36:06.122286\"}'"
      ]
     },
     "execution_count": 11,
     "metadata": {},
     "output_type": "execute_result"
    }
   ],
   "source": [
    "query_message = \"Which date is today?\"\n",
    "# response = rental_agent_executor.invoke({\"input\": query_message})\n",
    "response = conversational_executor.invoke({\"input\": query_message}, config=session_cfg)\n",
    "\n",
    "output = response.get('output')\n",
    "output2 = output.strip()\n",
    "\n",
    "import re \n",
    "if output2.startswith(\"```\"):\n",
    "    output2 = re.sub(r\"^```[a-zA-Z0-9]*\\n\", \"\", output2)\n",
    "    output2 = re.sub(r\"\\n```$\", \"\", output2)\n",
    "\n",
    "# import json\n",
    "# json.loads(output2)\n",
    "output2"
   ]
  },
  {
   "cell_type": "code",
   "execution_count": 12,
   "id": "f11c0ca9",
   "metadata": {},
   "outputs": [
    {
     "name": "stderr",
     "output_type": "stream",
     "text": [
      "Key 'additionalProperties' is not supported in schema, ignoring\n",
      "Key 'additionalProperties' is not supported in schema, ignoring\n",
      "Key 'additionalProperties' is not supported in schema, ignoring\n"
     ]
    }
   ],
   "source": [
    "query_message = \"I want to find condos in weehawken, NJ area. My buget is $4500 and hope to find at least 2 bedrooms' unit. Can you list some available options?\"\n",
    "# response = rental_agent_executor.invoke({\"input\": query_message})\n",
    "response = conversational_executor.invoke({\"input\": query_message}, config=session_cfg)"
   ]
  },
  {
   "cell_type": "code",
   "execution_count": 13,
   "id": "ddad0e1a",
   "metadata": {},
   "outputs": [
    {
     "data": {
      "text/plain": [
       "'{\"Tool call history\": \"default_api.agent_query_listing_table(spec = {\\\\\"limit\\\\\": 25, \\\\\"order_by\\\\\": [{\\\\\"direction\\\\\": \\\\\"asc\\\\\", \\\\\"field\\\\\": \\\\\"listing_price\\\\\"}], \\\\\"select\\\\\": [\\\\\"external_id\\\\\", \\\\\"address_street\\\\\", \\\\\"address_city\\\\\", \\\\\"address_state\\\\\", \\\\\"bedrooms\\\\\", \\\\\"bathrooms\\\\\", \\\\\"listing_price\\\\\", \\\\\"home_type\\\\\", \\\\\"hdp_url\\\\\", \\\\\"updated_at\\\\\"], \\\\\"where\\\\\": [{\\\\\"field\\\\\": \\\\\"address_city\\\\\", \\\\\"op\\\\\": \\\\\"ilike\\\\\", \\\\\"value\\\\\": \\\\\"%Weehawken%\\\\\"}, {\\\\\"field\\\\\": \\\\\"address_state\\\\\", \\\\\"op\\\\\": \\\\\"=\\\\\", \\\\\"value\\\\\": \\\\\"NJ\\\\\"}, {\\\\\"field\\\\\": \\\\\"listing_price\\\\\", \\\\\"op\\\\\": \\\\\"<=\\\\\", \\\\\"value\\\\\": 4500}, {\\\\\"field\\\\\": \\\\\"bedrooms\\\\\", \\\\\"op\\\\\": \\\\\">=\\\\\", \\\\\"value\\\\\": 2}, {\\\\\"field\\\\\": \\\\\"home_type\\\\\", \\\\\"op\\\\\": \\\\\"ilike\\\\\", \\\\\"value\\\\\": \\\\\"%CONDO%\\\\\"}]})\\\\ndefault_api.get_date_time_now()\", \"Reasoning history\": \"I searched the local database for condos in Weehawken, NJ, with at least 2 bedrooms and a maximum price of $4500. I found one listing that matches your criteria and is relatively recent (updated 2 days ago).\", \"Here is a condo available in Weehawken, NJ:\\\\n\\\\n*   **Address:** 1055 Boulevard E APT C11, Weehawken, NJ\\\\n*   **Bedrooms:** 2\\\\n*   **Bathrooms:** 1\\\\n*   **Price:** $3400\\\\n*   **Home Type:** CONDO\\\\n*   **Link:** https://www.zillow.com/homedetails/1055-Boulevard-E-APT-C11-Weehawken-NJ-07086/2098109369_zpid/\\\\n*   **Last Updated:** 2025-09-08\\\\n\\\\nWould you like me to look for more options online, or are you interested in this one?\"}'"
      ]
     },
     "execution_count": 13,
     "metadata": {},
     "output_type": "execute_result"
    }
   ],
   "source": [
    "output = response.get('output')\n",
    "output2 = output.strip()\n",
    "\n",
    "import re \n",
    "if output2.startswith(\"```\"):\n",
    "    output2 = re.sub(r\"^```[a-zA-Z0-9]*\\n\", \"\", output2)\n",
    "    output2 = re.sub(r\"\\n```$\", \"\", output2)\n",
    "\n",
    "# import json\n",
    "# json.loads(output2)\n",
    "output2"
   ]
  },
  {
   "cell_type": "code",
   "execution_count": 14,
   "id": "9ad8f656",
   "metadata": {},
   "outputs": [
    {
     "name": "stderr",
     "output_type": "stream",
     "text": [
      "Key 'additionalProperties' is not supported in schema, ignoring\n"
     ]
    },
    {
     "name": "stderr",
     "output_type": "stream",
     "text": [
      "Key 'additionalProperties' is not supported in schema, ignoring\n"
     ]
    },
    {
     "name": "stdout",
     "output_type": "stream",
     "text": [
      "\n",
      "=== HUMAN APPROVAL REQUIRED ===\n"
     ]
    },
    {
     "data": {
      "text/plain": [
       "'{\"Tool call history\": \"default_api.request_human_approval(action=\\'The listings in the database might be outdated. Do you want me to search online for more recent condo listings in Weehawken, NJ, with at least 2 bedrooms and a budget of $4500?\\')\", \"Reasoning history\": \"The user asked for more options. I have already provided one listing from the local database. To find more, I need to perform an online search. As per the instructions, I must request human approval before making any online calls. I have asked for approval to search online for more recent condo listings in Weehawken, NJ, with at least 2 bedrooms and a budget of $4500.\", \"question\": \"The listings in the database might be outdated. Do you want me to search online for more recent condo listings in Weehawken, NJ, with at least 2 bedrooms and a budget of $4500?\", \"status\": \"NEEDS_HUMAN\"}'"
      ]
     },
     "execution_count": 14,
     "metadata": {},
     "output_type": "execute_result"
    }
   ],
   "source": [
    "query_message = \"Are there any more available options?\"\n",
    "# response = rental_agent_executor.invoke({\"input\": query_message})\n",
    "response = conversational_executor.invoke({\"input\": query_message}, config=session_cfg)\n",
    "output = response.get('output')\n",
    "output2 = output.strip()\n",
    "\n",
    "import re \n",
    "if output2.startswith(\"```\"):\n",
    "    output2 = re.sub(r\"^```[a-zA-Z0-9]*\\n\", \"\", output2)\n",
    "    output2 = re.sub(r\"\\n```$\", \"\", output2)\n",
    "\n",
    "output2"
   ]
  },
  {
   "cell_type": "code",
   "execution_count": 15,
   "id": "2389de88",
   "metadata": {},
   "outputs": [
    {
     "name": "stderr",
     "output_type": "stream",
     "text": [
      "Key 'additionalProperties' is not supported in schema, ignoring\n",
      "Key 'additionalProperties' is not supported in schema, ignoring\n"
     ]
    },
    {
     "name": "stdout",
     "output_type": "stream",
     "text": [
      "[1/3] Snapshot not ready, retrying in 60s…\n",
      "[2/3] Snapshot not ready, retrying in 60s…\n",
      "[3/3] Snapshot not ready, retrying in 60s…\n"
     ]
    },
    {
     "name": "stderr",
     "output_type": "stream",
     "text": [
      "Key 'additionalProperties' is not supported in schema, ignoring\n"
     ]
    },
    {
     "name": "stdout",
     "output_type": "stream",
     "text": [
      "[1/3] Snapshot not ready, retrying in 60s…\n",
      "[2/3] Snapshot not ready, retrying in 60s…\n",
      "[3/3] Snapshot not ready, retrying in 60s…\n"
     ]
    },
    {
     "name": "stderr",
     "output_type": "stream",
     "text": [
      "Key 'additionalProperties' is not supported in schema, ignoring\n"
     ]
    },
    {
     "name": "stdout",
     "output_type": "stream",
     "text": [
      "[1/3] Snapshot not ready, retrying in 60s…\n"
     ]
    },
    {
     "name": "stderr",
     "output_type": "stream",
     "text": [
      "Key 'additionalProperties' is not supported in schema, ignoring\n"
     ]
    },
    {
     "name": "stdout",
     "output_type": "stream",
     "text": [
      "retrieved snapshot: s_mfdhwnoo1x8f53dztj\n"
     ]
    },
    {
     "name": "stderr",
     "output_type": "stream",
     "text": [
      "Key 'additionalProperties' is not supported in schema, ignoring\n"
     ]
    },
    {
     "name": "stdout",
     "output_type": "stream",
     "text": [
      "Calling bulk_upsert_listings function...\n"
     ]
    },
    {
     "name": "stderr",
     "output_type": "stream",
     "text": [
      "Key 'additionalProperties' is not supported in schema, ignoring\n"
     ]
    },
    {
     "data": {
      "text/plain": [
       "'{\"Tool call history\": \"default_api.submit_zillow_query_via_brightData(HomeType=\\'Condos\\', days_on_zillow=\\'7 days\\', listingCategory=\\'House for rent\\', location=\\'Weehawken, NJ\\')\\\\ndefault_api.retrieve_snapshot_from_brightData(snapshot_id=\\'s_mfdhwnoo1x8f53dztj\\')\\\\ndefault_api.retrieve_snapshot_from_brightData(snapshot_id=\\'s_mfdhwnoo1x8f53dztj\\')\\\\ndefault_api.retrieve_snapshot_from_brightData(snapshot_id=\\'s_mfdhwnoo1x8f53dztj\\')\\\\ndefault_api.bulk_upsert_listings(snapshot_file_path=\\'/Users/yuqiugan/Desktop/Personal_DS_Projects/house_rental_agent/data/s_mfdhwnoo1x8f53dztj.json\\')\\\\ndefault_api.agent_query_listing_table(spec={\\'limit\\': 25, \\'order_by\\': [{\\'direction\\': \\'asc\\', \\'field\\': \\'listing_price\\'}], \\'select\\': [\\'external_id\\', \\'address_street\\', \\'address_city\\', \\'address_state\\', \\'bedrooms\\', \\'bathrooms\\', \\'listing_price\\', \\'home_type\\', \\'hdp_url\\', \\'updated_at\\'], \\'where\\': [{\\'field\\': \\'address_city\\', \\'op\\': \\'ilike\\', \\'value\\': \\'%Weehawken%\\'}, {\\'field\\': \\'address_state\\', \\'op\\': \\'=\\', \\'value\\': \\'NJ\\'}, {\\'field\\': \\'listing_price\\', \\'op\\': \\'<=\\', \\'value\\': 4500}, {\\'field\\': \\'bedrooms\\', \\'op\\': \\'>=\\', \\'value\\': 2}, {\\'field\\': \\'home_type\\', \\'op\\': \\'ilike\\', \\'value\\': \\'%CONDO%\\'}]})\", \"Reasoning history\": \"After receiving human approval, I performed an online search for condos in Weehawken, NJ, that were listed within the last 7 days. I then retrieved the snapshot of the search results and updated the local database with these new listings. Finally, I queried the updated local database for condos in Weehawken, NJ, with at least 2 bedrooms and a maximum price of $4500. The search did not yield any additional options that meet all your specified criteria beyond the one already provided.\", \"I have searched online for more options, but I did not find any additional condos in Weehawken, NJ, that meet your criteria of at least 2 bedrooms and a budget of $4500. The only listing that matches your request is the one I previously provided:\\\\n\\\\n*   **Address:** 1055 Boulevard E APT C11, Weehawken, NJ\\\\n*   **Bedrooms:** 2\\\\n*   **Bathrooms:** 1\\\\n*   **Price:** $3400\\\\n*   **Home Type:** CONDO\\\\n*   **Link:** https://www.zillow.com/homedetails/1055-Boulevard-E-APT-C11-Weehawken-NJ-07086/2098109369_zpid/\\\\n*   **Last Updated:** 2025-09-08\\\\n\\\\nWould you like to adjust your search criteria, or are you interested in exploring this option further?\"}'"
      ]
     },
     "execution_count": 15,
     "metadata": {},
     "output_type": "execute_result"
    }
   ],
   "source": [
    "query_message = \"Sure, help me to search online.\"\n",
    "response = conversational_executor.invoke({\"input\": query_message}, config=session_cfg)\n",
    "output = response.get('output')\n",
    "output2 = output.strip()\n",
    "\n",
    "import re \n",
    "if output2.startswith(\"```\"):\n",
    "    output2 = re.sub(r\"^```[a-zA-Z0-9]*\\n\", \"\", output2)\n",
    "    output2 = re.sub(r\"\\n```$\", \"\", output2)\n",
    "\n",
    "output2"
   ]
  },
  {
   "cell_type": "code",
   "execution_count": 16,
   "id": "899075c3",
   "metadata": {},
   "outputs": [
    {
     "name": "stderr",
     "output_type": "stream",
     "text": [
      "Key 'additionalProperties' is not supported in schema, ignoring\n",
      "Key 'additionalProperties' is not supported in schema, ignoring\n"
     ]
    },
    {
     "data": {
      "text/plain": [
       "'{\"Tool call history\": \"default_api.query_google_maps(destination=\\'277 Park Ave, New York, NY 10172\\', generate_route_map=True, origin=\\'1055 Boulevard E APT C11, Weehawken, NJ\\', origin_name=\\'Weehawken Condo\\')\", \"Reasoning history\": \"The user asked for transit information from the Weehawken condo to their company. I used the `query_google_maps` tool to get the public transit route, setting `generate_route_map` to `True` to provide a visual aid.\", \"Here\\'s the transit plan from 1055 Boulevard E APT C11, Weehawken, NJ to 277 Park Ave, New York, NY 10172:\\\\n\\\\n**Total Duration:** 45 minutes\\\\n**Total Distance:** 5.2 miles\\\\n\\\\n**Steps:**\\\\n1.  **Walk** to Boulevard East at 50th St.\\\\n2.  Take the **128 Bus** towards New York from Boulevard East at 50th St. (approx. 21 minutes, 10 stops) to Port Authority Bus Terminal.\\\\n3.  **Walk** to Times Sq–42 St.\\\\n4.  Take the **7 Train (Flushing Local and Express)** towards Flushing-Main St from Times Sq–42 St (approx. 3 minutes, 2 stops) to Grand Central - 42 St.\\\\n5.  **Walk** to 277 Park Ave, New York, NY 10172, USA.\\\\n\\\\nA route map has been generated and saved to: /Users/yuqiugan/Desktop/Personal_DS_Projects/house_rental_agent/data/Google_route/Weehawken_Condo.png\"}'"
      ]
     },
     "execution_count": 16,
     "metadata": {},
     "output_type": "execute_result"
    }
   ],
   "source": [
    "query_message = \"OK, in that case, my company is at '277 Park Ave, New York, NY 10172', if I move to this place how should I transit to my company?\"\n",
    "response = conversational_executor.invoke({\"input\": query_message}, config=session_cfg)\n",
    "output = response.get('output')\n",
    "output2 = output.strip()\n",
    "\n",
    "import re \n",
    "if output2.startswith(\"```\"):\n",
    "    output2 = re.sub(r\"^```[a-zA-Z0-9]*\\n\", \"\", output2)\n",
    "    output2 = re.sub(r\"\\n```$\", \"\", output2)\n",
    "\n",
    "output2"
   ]
  },
  {
   "cell_type": "code",
   "execution_count": 17,
   "id": "439f5afb",
   "metadata": {},
   "outputs": [
    {
     "name": "stderr",
     "output_type": "stream",
     "text": [
      "Key 'additionalProperties' is not supported in schema, ignoring\n",
      "Key 'additionalProperties' is not supported in schema, ignoring\n"
     ]
    },
    {
     "data": {
      "text/plain": [
       "'{\"Tool call history\": \"default_api.agent_query_listing_table(spec={\\'limit\\': 25, \\'order_by\\': [{\\'direction\\': \\'asc\\', \\'field\\': \\'listing_price\\'}], \\'select\\': [\\'external_id\\', \\'address_street\\', \\'address_city\\', \\'address_state\\', \\'bedrooms\\', \\'bathrooms\\', \\'listing_price\\', \\'home_type\\', \\'hdp_url\\', \\'updated_at\\'], \\'where\\': [{\\'field\\': \\'address_city\\', \\'op\\': \\'ilike\\', \\'value\\': \\'%Edgewater%\\'}, {\\'field\\': \\'address_state\\', \\'op\\': \\'=\\', \\'value\\': \\'NJ\\'}, {\\'field\\': \\'listing_price\\', \\'op\\': \\'<=\\', \\'value\\': 4500}, {\\'field\\': \\'bedrooms\\', \\'op\\': \\'>=\\', \\'value\\': 2}, {\\'field\\': \\'home_type\\', \\'op\\': \\'ilike\\', \\'value\\': \\'%CONDO%\\'}]})\\\\ndefault_api.request_human_approval(action=\\'The local database does not have any recent listings for condos in Edgewater, NJ, that meet your criteria. Do you want me to search online for available options?\\', details=\\'Search for condos in Edgewater, NJ, with at least 2 bedrooms and a budget of $4500.\\')\", \"Reasoning history\": \"I first checked the local database for condos in Edgewater, NJ, with at least 2 bedrooms and a maximum price of $4500. The database returned no results. Therefore, I need to perform an online search. As per the instructions, I must request human approval before making any online calls. I have asked for approval to search online for more recent condo listings in Edgewater, NJ, with at least 2 bedrooms and a budget of $4500.\", \"question\": \"The local database does not have any recent listings for condos in Edgewater, NJ, that meet your criteria. Do you want me to search online for available options?\", \"status\": \"NEEDS_HUMAN\"}'"
      ]
     },
     "execution_count": 17,
     "metadata": {},
     "output_type": "execute_result"
    }
   ],
   "source": [
    "query_message = \"I don't think that's the conda I want. Can you find listings in other area? Say, Edgewater NJ?\"\n",
    "response = conversational_executor.invoke({\"input\": query_message}, config=session_cfg)\n",
    "output = response.get('output')\n",
    "output2 = output.strip()\n",
    "\n",
    "import re \n",
    "if output2.startswith(\"```\"):\n",
    "    output2 = re.sub(r\"^```[a-zA-Z0-9]*\\n\", \"\", output2)\n",
    "    output2 = re.sub(r\"\\n```$\", \"\", output2)\n",
    "\n",
    "output2"
   ]
  },
  {
   "cell_type": "code",
   "execution_count": 18,
   "id": "adf17a30",
   "metadata": {},
   "outputs": [
    {
     "name": "stderr",
     "output_type": "stream",
     "text": [
      "Key 'additionalProperties' is not supported in schema, ignoring\n"
     ]
    },
    {
     "data": {
      "text/plain": [
       "\"Understood. Since you don't want to search online, and my local database does not have any condo listings in Edgewater, NJ, with at least 2 bedrooms and a budget of $4500, I cannot provide any options for that area at this time.\\n\\nWould you like to adjust your search criteria (e.g., different home type, fewer bedrooms, higher budget) or explore another location within the existing database?\""
      ]
     },
     "execution_count": 18,
     "metadata": {},
     "output_type": "execute_result"
    }
   ],
   "source": [
    "query_message = \"No, I don't need online searches.\"\n",
    "response = conversational_executor.invoke({\"input\": query_message}, config=session_cfg)\n",
    "output = response.get('output')\n",
    "output2 = output.strip()\n",
    "\n",
    "import re \n",
    "if output2.startswith(\"```\"):\n",
    "    output2 = re.sub(r\"^```[a-zA-Z0-9]*\\n\", \"\", output2)\n",
    "    output2 = re.sub(r\"\\n```$\", \"\", output2)\n",
    "\n",
    "output2"
   ]
  },
  {
   "cell_type": "code",
   "execution_count": 23,
   "id": "253af756",
   "metadata": {},
   "outputs": [
    {
     "name": "stderr",
     "output_type": "stream",
     "text": [
      "Key 'additionalProperties' is not supported in schema, ignoring\n"
     ]
    },
    {
     "data": {
      "text/plain": [
       "\"Considering both transit convenience and price, I would recommend one of the **2-bedroom, 2-bathroom units at 1300 Avenue At Port, Weehawken, NJ (Riverparc at Port Imperial)**.\\n\\nHere's why:\\n\\n*   **Transit Convenience:** These units offer the shortest transit time to your company at 277 Park Ave, New York, NY 10172, at approximately **34 minutes**. This is a significant improvement compared to the other listings, which have commute times closer to 48-49 minutes. While it's still more than your desired 20 minutes, it's the most convenient option among the available listings.\\n\\n*   **Price:** While these units are at the higher end of your $4500 budget (starting from $4138), they still fall within your specified range. The other listings are more affordable, but the trade-off is a much longer commute.\\n\\n**Recommendation:**\\n\\nSpecifically, the unit at **1300 Avenue At Port, Weehawken, NJ** with an external ID of **2063201591** is priced at **$4138**. This unit offers the best balance of the shortest commute time and the lowest price within the Riverparc at Port Imperial options.\\n\\nThe other listings, while more budget-friendly, would result in a commute that is roughly 15 minutes longer each way, which can add up significantly over time. If transit convenience is a high priority, the slightly higher price for the Riverparc units might be a worthwhile investment for the time saved.\""
      ]
     },
     "execution_count": 23,
     "metadata": {},
     "output_type": "execute_result"
    }
   ],
   "source": [
    "query_message = \"I see, in that case, which apartment you think suit me best? I want to take both the convinience of transit and the price into consideration. Give me reasons.\"\n",
    "response = conversational_executor.invoke({\"input\": query_message}, config=session_cfg)\n",
    "output = response.get('output')\n",
    "output2 = output.strip()\n",
    "\n",
    "import re \n",
    "if output2.startswith(\"```\"):\n",
    "    output2 = re.sub(r\"^```[a-zA-Z0-9]*\\n\", \"\", output2)\n",
    "    output2 = re.sub(r\"\\n```$\", \"\", output2)\n",
    "\n",
    "output2"
   ]
  },
  {
   "cell_type": "code",
   "execution_count": 24,
   "id": "c45d08f7",
   "metadata": {},
   "outputs": [
    {
     "name": "stderr",
     "output_type": "stream",
     "text": [
      "Key 'additionalProperties' is not supported in schema, ignoring\n",
      "Key 'additionalProperties' is not supported in schema, ignoring\n"
     ]
    },
    {
     "data": {
      "text/plain": [
       "'Yes, I found two listings that explicitly mention having natural light:\\n\\n1.  **4612 Park Ave #101A, Weehawken, NJ 07086**\\n    *   The general description states: \"Tons of sunlight Plenty of windows\"\\n\\n2.  **61 46th St #2, Weehawken, NJ 07086**\\n    *   The general description states: \"Tons of natural light\"\\n\\nFor the other listings, particularly those at 1300 Avenue At Port (Riverparc at Port Imperial), the detailed descriptions regarding natural light are not available in my current records.'"
      ]
     },
     "execution_count": 24,
     "metadata": {},
     "output_type": "execute_result"
    }
   ],
   "source": [
    "query_message = \"I would love to live in a place that has natural lights. Is there any in your result?\"\n",
    "response = conversational_executor.invoke({\"input\": query_message}, config=session_cfg)\n",
    "output = response.get('output')\n",
    "output2 = output.strip()\n",
    "\n",
    "import re \n",
    "if output2.startswith(\"```\"):\n",
    "    output2 = re.sub(r\"^```[a-zA-Z0-9]*\\n\", \"\", output2)\n",
    "    output2 = re.sub(r\"\\n```$\", \"\", output2)\n",
    "\n",
    "output2"
   ]
  },
  {
   "cell_type": "code",
   "execution_count": 12,
   "id": "70b60e78",
   "metadata": {},
   "outputs": [
    {
     "data": {
      "text/plain": [
       "{'yuqiu-local-dev': InMemoryChatMessageHistory(messages=[HumanMessage(content=\"What's the date now?\", additional_kwargs={}, response_metadata={}), AIMessage(content='{\"Tool call history\": \"Called get_date_time_now to get the current date and time.\", \"Reasoning history\": \"The user asked for the current date, so I used the `get_date_time_now` tool to retrieve it.\"}', additional_kwargs={}, response_metadata={}), HumanMessage(content='Have you helped me before?', additional_kwargs={}, response_metadata={}), AIMessage(content=\"As a large language model, I don't have memory of past conversations with you. Each interaction is fresh. How can I help you today?\", additional_kwargs={}, response_metadata={}), HumanMessage(content='My name is Yuqiu Gan.', additional_kwargs={}, response_metadata={}), AIMessage(content=\"It's nice to meet you, Yuqiu Gan! How can I assist you today?\", additional_kwargs={}, response_metadata={}), HumanMessage(content='What is my name?', additional_kwargs={}, response_metadata={}), AIMessage(content=\"As a large language model, I don't have memory of past conversations, so I don't know your name.\", additional_kwargs={}, response_metadata={})])}"
      ]
     },
     "execution_count": 12,
     "metadata": {},
     "output_type": "execute_result"
    }
   ],
   "source": [
    "_session_store"
   ]
  },
  {
   "cell_type": "code",
   "execution_count": 13,
   "id": "6f0b328d",
   "metadata": {},
   "outputs": [
    {
     "name": "stderr",
     "output_type": "stream",
     "text": [
      "Key 'additionalProperties' is not supported in schema, ignoring\n",
      "Key 'additionalProperties' is not supported in schema, ignoring\n"
     ]
    },
    {
     "name": "stdout",
     "output_type": "stream",
     "text": [
      "As a large language model, I don't have memory of past conversations, so I don't know your name.\n"
     ]
    }
   ],
   "source": [
    "# 1) Send a name\n",
    "conversational_executor.invoke({\"input\": \"My name is Yuqiu Gan.\"}, config=session_cfg)\n",
    "\n",
    "# 2) Ask what my name is\n",
    "out = conversational_executor.invoke({\"input\": \"What is my name?\"}, config=session_cfg)\n",
    "print(out[\"output\"] if isinstance(out, dict) and \"output\" in out else out)\n"
   ]
  },
  {
   "cell_type": "markdown",
   "id": "f4e8cd1f",
   "metadata": {},
   "source": [
    "### HITL via Langgraph"
   ]
  },
  {
   "cell_type": "code",
   "execution_count": null,
   "id": "7a4385c4",
   "metadata": {},
   "outputs": [],
   "source": []
  }
 ],
 "metadata": {
  "kernelspec": {
   "display_name": "house_renting",
   "language": "python",
   "name": "python3"
  },
  "language_info": {
   "codemirror_mode": {
    "name": "ipython",
    "version": 3
   },
   "file_extension": ".py",
   "mimetype": "text/x-python",
   "name": "python",
   "nbconvert_exporter": "python",
   "pygments_lexer": "ipython3",
   "version": "3.11.13"
  }
 },
 "nbformat": 4,
 "nbformat_minor": 5
}
